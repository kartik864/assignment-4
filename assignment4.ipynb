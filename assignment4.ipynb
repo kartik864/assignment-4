{
 "cells": [
  {
   "cell_type": "code",
   "execution_count": 7,
   "id": "dcdfbb7e-a190-4f2b-ac4f-e8099dadd2cc",
   "metadata": {},
   "outputs": [
    {
     "name": "stdout",
     "output_type": "stream",
     "text": [
      "1\n",
      "2\n",
      "3\n",
      "4\n",
      "5\n"
     ]
    }
   ],
   "source": [
    "#Q=1\n",
    "\n",
    "count=0\n",
    "while count<5:\n",
    "    count+=1\n",
    "    print(count)"
   ]
  },
  {
   "cell_type": "code",
   "execution_count": 17,
   "id": "adb5b2a9-dff8-4b31-84ae-12ae744419ba",
   "metadata": {},
   "outputs": [
    {
     "name": "stdout",
     "output_type": "stream",
     "text": [
      "sum of num from 1 to 10 is: 1\n",
      "sum of num from 1 to 10 is: 3\n",
      "sum of num from 1 to 10 is: 6\n",
      "sum of num from 1 to 10 is: 10\n",
      "sum of num from 1 to 10 is: 15\n",
      "sum of num from 1 to 10 is: 21\n",
      "sum of num from 1 to 10 is: 28\n",
      "sum of num from 1 to 10 is: 36\n",
      "sum of num from 1 to 10 is: 45\n",
      "sum of num from 1 to 10 is: 55\n"
     ]
    }
   ],
   "source": [
    "#Q2\n",
    "num=1\n",
    "sum_of_num=0\n",
    "while num<=10:\n",
    "    sum_of_num +=num\n",
    "    num+=1\n",
    "    print(\"sum of num from 1 to 10 is:\", sum_of_num )"
   ]
  },
  {
   "cell_type": "code",
   "execution_count": 28,
   "id": "6a1048f3-2739-455d-a997-b02f97fa4686",
   "metadata": {},
   "outputs": [
    {
     "name": "stdout",
     "output_type": "stream",
     "text": [
      "the factorial of 7 is: 5040\n"
     ]
    }
   ],
   "source": [
    "#Q3\n",
    "def factorial(n):\n",
    "    result=1\n",
    "    for i in range(1,n+1):\n",
    "     result*=i\n",
    "    return result\n",
    "number=7\n",
    "print(\"the factorial of\",number, \"is:\",factorial(number))"
   ]
  },
  {
   "cell_type": "code",
   "execution_count": 29,
   "id": "6ae08902-c0e7-4bff-8a62-0217b54a1ddd",
   "metadata": {},
   "outputs": [
    {
     "name": "stdin",
     "output_type": "stream",
     "text": [
      "Enter a string:  kartik goyal\n"
     ]
    },
    {
     "name": "stdout",
     "output_type": "stream",
     "text": [
      "The number of vowels in the string is: 4\n"
     ]
    }
   ],
   "source": [
    "# Q4 Function to count vowels in a string\n",
    "def count_vowels(string):\n",
    "    vowels = 'aeiouAEIOU'\n",
    "    count = 0\n",
    "    for char in string:\n",
    "        if char in vowels:\n",
    "            count += 1\n",
    "    return count\n",
    "\n",
    "input_string = input(\"Enter a string: \")\n",
    "\n",
    "vowel_count = count_vowels(input_string)\n",
    "\n",
    "print(\"The number of vowels in the string is:\", vowel_count)"
   ]
  },
  {
   "cell_type": "code",
   "execution_count": 42,
   "id": "113d28e7-2c83-4d39-a0a6-5c2f7f07a46a",
   "metadata": {},
   "outputs": [
    {
     "name": "stdout",
     "output_type": "stream",
     "text": [
      "* \n",
      "* * \n",
      "* * * \n",
      "* * * * \n",
      "* * * * * \n",
      "* * * * * * \n",
      "* * * * * * * \n",
      "* * * * * * * * \n",
      "* * * * * * * * * \n",
      "* * * * * * * * * * \n"
     ]
    }
   ],
   "source": [
    " #Q5\n",
    "for i in range(0,10):\n",
    "    for j in range(i+1):\n",
    "        print(\"*\",end=\" \")\n",
    "    print()"
   ]
  },
  {
   "cell_type": "code",
   "execution_count": 45,
   "id": "8853ad67-381f-4b9f-8b65-e13d98a944f5",
   "metadata": {},
   "outputs": [
    {
     "name": "stdout",
     "output_type": "stream",
     "text": [
      "0 * 0 = 0\n",
      "0 * 1 = 0\n",
      "0 * 2 = 0\n",
      "1 * 0 = 0\n",
      "1 * 1 = 1\n",
      "1 * 2 = 2\n",
      "2 * 0 = 0\n",
      "2 * 1 = 2\n",
      "2 * 2 = 4\n"
     ]
    }
   ],
   "source": [
    "#Q6\n",
    "\n",
    "for i in range(3):\n",
    "    for j in range(3):\n",
    "        product=i * j\n",
    "        print(f\"{i} * {j} = {product}\")\n"
   ]
  },
  {
   "cell_type": "code",
   "execution_count": null,
   "id": "4b8aed00-017f-49b7-a5cc-7be7e92f52bb",
   "metadata": {},
   "outputs": [],
   "source": []
  }
 ],
 "metadata": {
  "kernelspec": {
   "display_name": "Python 3 (ipykernel)",
   "language": "python",
   "name": "python3"
  },
  "language_info": {
   "codemirror_mode": {
    "name": "ipython",
    "version": 3
   },
   "file_extension": ".py",
   "mimetype": "text/x-python",
   "name": "python",
   "nbconvert_exporter": "python",
   "pygments_lexer": "ipython3",
   "version": "3.10.8"
  }
 },
 "nbformat": 4,
 "nbformat_minor": 5
}
